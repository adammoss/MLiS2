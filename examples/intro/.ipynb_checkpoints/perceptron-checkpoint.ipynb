{
 "cells": [
  {
   "cell_type": "markdown",
   "metadata": {
    "colab_type": "text",
    "id": "view-in-github"
   },
   "source": [
    "<a href=\"https://colab.research.google.com/github/adammoss/MLiS2/blob/master/examples/intro/perceptron.ipynb\" target=\"_parent\"><img src=\"https://colab.research.google.com/assets/colab-badge.svg\" alt=\"Open In Colab\"/></a>"
   ]
  },
  {
   "cell_type": "markdown",
   "metadata": {
    "colab_type": "text",
    "id": "aN_td5rjuUTC"
   },
   "source": [
    " The perceptron model is given by \n",
    "\n",
    " $\n",
    "\\hat{y} = \\Theta \\left( \\mathbf{x}^T \\mathbf{w} \\right)\\,,\n",
    "$\n",
    "\n",
    "where $\\Theta$ is the Heaviside step function. It is an example of a binary classifier, and is capable of learning whether an example belongs to a specific binary class (labelled by 0 and 1). Because of the non-linearity of the step function we cannot solve for the weights using the normal equations. \n",
    "\n",
    "Perceptrons can be trained using the perceptron learning algorithm, which iteratively updates the weights depending on the size of the prediction error: \n",
    "\n",
    "1. Initialise the weights to either 0 or a small random value.\n",
    "\n",
    "2. Iteratively update the weights by \n",
    "$\n",
    "\\mathbf{w}  \\rightarrow  \\mathbf{w}  - \\alpha \\mathbf{X}^T \\left(\\hat{\\mathbf{Y}} - \\mathbf{Y} \\right)\\,, \n",
    "$ where $\\alpha$ is the learning rate. The choice of learning rate is not actually important for the perceptron learning algorithm, but we shall use this form to compare with gradient descent methods. \n",
    "\n",
    "3. Repeat step 2 until a stopping condition it met. This could be, for example, a maximum number of iterations, or a condition that the loss has not improved significantly from the previous iteration. \n"
   ]
  },
  {
   "cell_type": "code",
   "execution_count": 1,
   "metadata": {
    "colab": {},
    "colab_type": "code",
    "id": "fQskpl1FubOu"
   },
   "outputs": [],
   "source": [
    "import numpy as np\n",
    "import matplotlib.pyplot as plt\n",
    "from matplotlib import cm"
   ]
  },
  {
   "cell_type": "markdown",
   "metadata": {
    "colab_type": "text",
    "id": "l1w9z9HxMWPp"
   },
   "source": [
    "Let us first attempt to learn the AND function. We will set the initial weights to a small random value, the learning rate to $\\alpha=0.1$ and use a fixed number of iterations."
   ]
  },
  {
   "cell_type": "code",
   "execution_count": 2,
   "metadata": {
    "colab": {
     "base_uri": "https://localhost:8080/",
     "height": 85
    },
    "colab_type": "code",
    "id": "sSL4SeOeujMt",
    "outputId": "84ac5e61-a2de-47ae-e680-23632d38e5ae"
   },
   "outputs": [
    {
     "name": "stdout",
     "output_type": "stream",
     "text": [
      "[[1 0 0]\n",
      " [1 0 1]\n",
      " [1 1 0]\n",
      " [1 1 1]]\n"
     ]
    }
   ],
   "source": [
    "X = np.array([[1,0,0], [1,0,1], [1,1,0], [1,1,1]])\n",
    "print(X)"
   ]
  },
  {
   "cell_type": "code",
   "execution_count": 3,
   "metadata": {
    "colab": {
     "base_uri": "https://localhost:8080/",
     "height": 85
    },
    "colab_type": "code",
    "id": "PCipjechulG-",
    "outputId": "371115fb-21ed-47e2-8161-2fd0bb97b9e9"
   },
   "outputs": [
    {
     "name": "stdout",
     "output_type": "stream",
     "text": [
      "[[0]\n",
      " [0]\n",
      " [0]\n",
      " [1]]\n"
     ]
    }
   ],
   "source": [
    "Y = np.array([[0], [0], [0], [1]])\n",
    "print(Y)"
   ]
  },
  {
   "cell_type": "code",
   "execution_count": 4,
   "metadata": {
    "colab": {
     "base_uri": "https://localhost:8080/",
     "height": 68
    },
    "colab_type": "code",
    "id": "qDPzhbI4usAt",
    "outputId": "16609c3e-f83f-445e-e242-2e9f9ecfabae"
   },
   "outputs": [
    {
     "name": "stdout",
     "output_type": "stream",
     "text": [
      "[[0.05488135]\n",
      " [0.07151894]\n",
      " [0.06027634]]\n"
     ]
    }
   ],
   "source": [
    "np.random.seed(0)\n",
    "w = 0.1 * np.random.random(size=(3, 1))\n",
    "print(w)"
   ]
  },
  {
   "cell_type": "code",
   "execution_count": 5,
   "metadata": {
    "colab": {},
    "colab_type": "code",
    "id": "1w5kPrZTATmX"
   },
   "outputs": [],
   "source": [
    "num_epochs = 10\n",
    "learning_rate = 0.1"
   ]
  },
  {
   "cell_type": "code",
   "execution_count": 6,
   "metadata": {
    "colab": {},
    "colab_type": "code",
    "id": "jnHSh6iYwwEx"
   },
   "outputs": [],
   "source": [
    "for i in range(num_epochs):\n",
    "  Yhat = np.heaviside(np.matmul(X, w), 0)\n",
    "  w -= learning_rate * np.matmul(X.T, Yhat - Y)"
   ]
  },
  {
   "cell_type": "code",
   "execution_count": 7,
   "metadata": {
    "colab": {
     "base_uri": "https://localhost:8080/",
     "height": 68
    },
    "colab_type": "code",
    "id": "nc3TZaGxxFjF",
    "outputId": "172c6e23-df24-4786-d853-a2155552d8ed"
   },
   "outputs": [
    {
     "name": "stdout",
     "output_type": "stream",
     "text": [
      "[[-0.24511865]\n",
      " [ 0.17151894]\n",
      " [ 0.16027634]]\n"
     ]
    }
   ],
   "source": [
    "print(w)"
   ]
  },
  {
   "cell_type": "markdown",
   "metadata": {
    "colab_type": "text",
    "id": "tI_D3xXaYGpY"
   },
   "source": [
    "Check the classification of each example"
   ]
  },
  {
   "cell_type": "code",
   "execution_count": 8,
   "metadata": {
    "colab": {
     "base_uri": "https://localhost:8080/",
     "height": 85
    },
    "colab_type": "code",
    "id": "LG_zwIyFUKpG",
    "outputId": "b250a037-2201-47b8-d52b-f8978e800ba2"
   },
   "outputs": [
    {
     "name": "stdout",
     "output_type": "stream",
     "text": [
      "[[0.]\n",
      " [0.]\n",
      " [0.]\n",
      " [1.]]\n"
     ]
    }
   ],
   "source": [
    "Yhat = np.heaviside(np.matmul(X, w), 0)\n",
    "print(Yhat)"
   ]
  },
  {
   "cell_type": "markdown",
   "metadata": {
    "colab_type": "text",
    "id": "UJEExacvYKdN"
   },
   "source": [
    "Plot the decision boundary for all values of $\\mathbf{x}$"
   ]
  },
  {
   "cell_type": "code",
   "execution_count": 9,
   "metadata": {
    "colab": {},
    "colab_type": "code",
    "id": "vOGx1ozBysR0"
   },
   "outputs": [],
   "source": [
    "id0 = np.where(Y[:, 0] == 0)\n",
    "id1 = np.where(Y[:, 0] == 1)"
   ]
  },
  {
   "cell_type": "code",
   "execution_count": 10,
   "metadata": {
    "colab": {},
    "colab_type": "code",
    "id": "DJEMDP-aTXNs"
   },
   "outputs": [],
   "source": [
    "xx, yy = np.mgrid[-1:2:.01, -1:2:.01]\n",
    "Yhat = np.heaviside(w[0] + w[1] * xx + w[2] * yy, 0)"
   ]
  },
  {
   "cell_type": "code",
   "execution_count": 11,
   "metadata": {
    "colab": {
     "base_uri": "https://localhost:8080/",
     "height": 285
    },
    "colab_type": "code",
    "id": "rDsRKsjcxGba",
    "outputId": "0d999571-204d-4f76-a186-810e535760a3"
   },
   "outputs": [
    {
     "data": {
      "image/png": "[encoded data removed]",
      "text/plain": [
       "<Figure size 432x288 with 1 Axes>"
      ]
     },
     "metadata": {
      "needs_background": "light"
     },
     "output_type": "display_data"
    }
   ],
   "source": [
    "plt.figure()\n",
    "plt.contourf(xx, yy, Yhat, alpha=0.5)\n",
    "plt.scatter(X[id0, 1], X[id0, 2], color='blue')\n",
    "plt.scatter(X[id1, 1], X[id1, 2], color='red')\n",
    "plt.xlabel('$x_1$', fontsize=16)\n",
    "plt.ylabel('$x_2$', fontsize=16)\n",
    "plt.show()"
   ]
  },
  {
   "cell_type": "markdown",
   "metadata": {
    "colab_type": "text",
    "id": "dtT2YXF_YCGS"
   },
   "source": [
    "Now let us attempt to learn the XOR function."
   ]
  },
  {
   "cell_type": "code",
   "execution_count": 12,
   "metadata": {
    "colab": {
     "base_uri": "https://localhost:8080/",
     "height": 85
    },
    "colab_type": "code",
    "id": "WUPH0xFzPbgW",
    "outputId": "95437e18-3ece-414a-d344-d77644cc48c1"
   },
   "outputs": [
    {
     "name": "stdout",
     "output_type": "stream",
     "text": [
      "[[0]\n",
      " [1]\n",
      " [1]\n",
      " [0]]\n"
     ]
    }
   ],
   "source": [
    "Y = np.array([[0], [1], [1], [0]])\n",
    "print(Y)"
   ]
  },
  {
   "cell_type": "code",
   "execution_count": 13,
   "metadata": {
    "colab": {
     "base_uri": "https://localhost:8080/",
     "height": 68
    },
    "colab_type": "code",
    "id": "FvkY78IPPljN",
    "outputId": "8f487599-147a-4468-ec11-eb1dd6a2dabe"
   },
   "outputs": [
    {
     "name": "stdout",
     "output_type": "stream",
     "text": [
      "[[0.05488135]\n",
      " [0.07151894]\n",
      " [0.06027634]]\n"
     ]
    }
   ],
   "source": [
    "np.random.seed(0)\n",
    "w = 0.1 * np.random.random(size=(3, 1))\n",
    "print(w)"
   ]
  },
  {
   "cell_type": "code",
   "execution_count": 0,
   "metadata": {
    "colab": {},
    "colab_type": "code",
    "id": "BcG7Ma7HYoV2"
   },
   "outputs": [],
   "source": [
    "for i in range(num_epochs):\n",
    "  Yhat = np.heaviside(np.matmul(X, w), 0)\n",
    "  w -= learning_rate * np.matmul(X.T, Yhat - Y)"
   ]
  },
  {
   "cell_type": "code",
   "execution_count": 16,
   "metadata": {
    "colab": {
     "base_uri": "https://localhost:8080/",
     "height": 68
    },
    "colab_type": "code",
    "id": "SinXP2odYrGt",
    "outputId": "19ca1e72-63d5-4130-bc41-f7f6d82e6d8e"
   },
   "outputs": [
    {
     "name": "stdout",
     "output_type": "stream",
     "text": [
      "[[0.05488135]\n",
      " [0.07151894]\n",
      " [0.06027634]]\n"
     ]
    }
   ],
   "source": [
    "print(w)"
   ]
  },
  {
   "cell_type": "markdown",
   "metadata": {
    "colab_type": "text",
    "id": "J5TIACPHYzsr"
   },
   "source": [
    "Check the classification of each example"
   ]
  },
  {
   "cell_type": "code",
   "execution_count": 17,
   "metadata": {
    "colab": {
     "base_uri": "https://localhost:8080/",
     "height": 85
    },
    "colab_type": "code",
    "id": "LhmxFAEPYzDk",
    "outputId": "1d05b1a8-450c-4b8e-f361-1da557a6095b"
   },
   "outputs": [
    {
     "name": "stdout",
     "output_type": "stream",
     "text": [
      "[[1.]\n",
      " [1.]\n",
      " [1.]\n",
      " [1.]]\n"
     ]
    }
   ],
   "source": [
    "Yhat = np.heaviside(np.matmul(X, w), 0)\n",
    "print(Yhat)"
   ]
  },
  {
   "cell_type": "markdown",
   "metadata": {
    "colab_type": "text",
    "id": "cJmkrLQVZCT2"
   },
   "source": [
    "Plot the decision boundary for all values of $\\mathbf{x}$"
   ]
  },
  {
   "cell_type": "code",
   "execution_count": 0,
   "metadata": {
    "colab": {},
    "colab_type": "code",
    "id": "6skWqxGuYtRd"
   },
   "outputs": [],
   "source": [
    "id0 = np.where(Y[:, 0] == 0)\n",
    "id1 = np.where(Y[:, 0] == 1)"
   ]
  },
  {
   "cell_type": "code",
   "execution_count": 0,
   "metadata": {
    "colab": {},
    "colab_type": "code",
    "id": "Yb_yvjN4ZE33"
   },
   "outputs": [],
   "source": [
    "xx, yy = np.mgrid[-1:2:.01, -1:2:.01]\n",
    "Yhat = np.heaviside(w[0] + w[1] * xx + w[2] * yy, 0)"
   ]
  },
  {
   "cell_type": "code",
   "execution_count": 20,
   "metadata": {
    "colab": {
     "base_uri": "https://localhost:8080/",
     "height": 285
    },
    "colab_type": "code",
    "id": "MODNyTFwZHaP",
    "outputId": "be5424b7-472e-4994-b662-2f6f4b14a7c6"
   },
   "outputs": [
    {
     "data": {
      "image/png": "[encoded data removed]",
      "text/plain": [
       "<Figure size 432x288 with 1 Axes>"
      ]
     },
     "metadata": {
      "tags": []
     },
     "output_type": "display_data"
    }
   ],
   "source": [
    "plt.figure()\n",
    "plt.contourf(xx, yy, Yhat, alpha=0.5)\n",
    "plt.scatter(X[id0, 1], X[id0, 2], color='blue')\n",
    "plt.scatter(X[id1, 1], X[id1, 2], color='red')\n",
    "plt.xlabel('$x_1$', fontsize=16)\n",
    "plt.ylabel('$x_2$', fontsize=16)\n",
    "plt.show()"
   ]
  },
  {
   "cell_type": "markdown",
   "metadata": {
    "colab_type": "text",
    "id": "NZfGSKhz4kuu"
   },
   "source": [
    " The perceptron manages to classify the AND function correctly, but fails on the XOR function, giving all examples the same value or class."
   ]
  }
 ],
 "metadata": {
  "colab": {
   "authorship_tag": "ABX9TyPzvjx/c5JnlTWXWoEMGnDB",
   "include_colab_link": true,
   "name": "perceptron.ipynb",
   "provenance": []
  },
  "kernelspec": {
   "display_name": "Python 3",
   "language": "python",
   "name": "python3"
  },
  "language_info": {
   "codemirror_mode": {
    "name": "ipython",
    "version": 3
   },
   "file_extension": ".py",
   "mimetype": "text/x-python",
   "name": "python",
   "nbconvert_exporter": "python",
   "pygments_lexer": "ipython3",
   "version": "3.7.4"
  }
 },
 "nbformat": 4,
 "nbformat_minor": 1
}
