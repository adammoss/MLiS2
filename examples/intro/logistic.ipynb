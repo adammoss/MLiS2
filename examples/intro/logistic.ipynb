{
 "cells": [
  {
   "cell_type": "markdown",
   "metadata": {
    "colab_type": "text",
    "id": "view-in-github"
   },
   "source": [
    "<a href=\"https://colab.research.google.com/github/adammoss/MLiS2/blob/master/examples/intro/logistic.ipynb\" target=\"_parent\"><img src=\"https://colab.research.google.com/assets/colab-badge.svg\" alt=\"Open In Colab\"/></a>"
   ]
  },
  {
   "cell_type": "markdown",
   "metadata": {
    "colab_type": "text",
    "id": "pZAKI-4lIw1E"
   },
   "source": [
    "The logistic model is given by \n",
    "\n",
    "$\n",
    "\\hat{y} = \\sigma \\left( \\mathbf{x}^T \\mathbf{w} \\right)\\,,\n",
    "$\n",
    "\n",
    "where $\\sigma$ is the sigmoid function. \n",
    "\n",
    "Logistic regression is commonly used to estimate the probability that an example belong to a specific binary class, i.e. \n",
    "\n",
    "$\n",
    "\\hat{y}  = P (y = 1 |  \\mathbf{x})\\,.\n",
    "$\n",
    "\n",
    "There is no general closed form solution for the weights, so we will use a similar iterative procedure to the perceptron algorithm. Since  the activation function is differentiable we can use gradient descent,  and if the loss function is convex it is guaranteed to find the optimal solution.  Gradient descent proposes a new set of weights\n",
    "\n",
    " $\n",
    " \\mathbf{w}  \\rightarrow  \\mathbf{w}  - \\alpha \\nabla_{\\mathbf{w}}  L  (\\mathbf{w})\\,, \n",
    " $\n",
    "\n",
    "where $\\alpha$ is the learning rate, a positive scalar that determines the size of the update. There are several ways to choose $\\alpha$, which we will discuss later on. For now we will set it to a small constant.  \n",
    "\n",
    "We will again attempt to learn the AND and XOR functions, but now use the BCE loss.  In the logistic model the gradient of the BCE loss with respect to the weights can be shown to be \n",
    "\n",
    " $\n",
    " \\nabla_{\\mathbf{w}}  L  (\\mathbf{w})  = \\frac{1}{N} \\sum^N_i \\left( \\hat{y}^{(i)}  - y^{(i)} \\right) \\mathbf{x}^{(i)} = \\frac{1}{N} \\mathbf{X}^T \\left( \\hat{\\mathbf{Y}} -  \\mathbf{Y}\\right)\\,,\n",
    " $\n",
    "\n",
    "Gradient descent for logistic regression therefore strongly resembles the perceptron learning algorithm. "
   ]
  },
  {
   "cell_type": "code",
   "execution_count": 1,
   "metadata": {
    "colab": {},
    "colab_type": "code",
    "id": "kdryppQfK6a_"
   },
   "outputs": [],
   "source": [
    "import numpy as np\n",
    "import matplotlib.pyplot as plt\n",
    "from matplotlib import cm"
   ]
  },
  {
   "cell_type": "code",
   "execution_count": 2,
   "metadata": {
    "colab": {},
    "colab_type": "code",
    "id": "7mlM8FhhLkzQ"
   },
   "outputs": [],
   "source": [
    "def sigmoid(x):\n",
    "  return 1/(1 + np.exp(-x)) "
   ]
  },
  {
   "cell_type": "markdown",
   "metadata": {
    "colab_type": "text",
    "id": "bxhRPFl2LAu0"
   },
   "source": [
    "Let us first attempt to learn the AND function. We will set the initial weights to a small random value, the learning rate to  𝛼=0.1  and use a fixed number of iterations.\n",
    "\n"
   ]
  },
  {
   "cell_type": "code",
   "execution_count": 3,
   "metadata": {
    "colab": {
     "base_uri": "https://localhost:8080/",
     "height": 85
    },
    "colab_type": "code",
    "id": "JrO22m2aLDZf",
    "outputId": "54bc18af-4b98-4d18-b0d6-b44cdd2abff8"
   },
   "outputs": [
    {
     "name": "stdout",
     "output_type": "stream",
     "text": [
      "[[1 0 0]\n",
      " [1 0 1]\n",
      " [1 1 0]\n",
      " [1 1 1]]\n"
     ]
    }
   ],
   "source": [
    "X = np.array([[1,0,0], [1,0,1], [1,1,0], [1,1,1]])\n",
    "print(X)"
   ]
  },
  {
   "cell_type": "code",
   "execution_count": 4,
   "metadata": {
    "colab": {
     "base_uri": "https://localhost:8080/",
     "height": 85
    },
    "colab_type": "code",
    "id": "39SFBVMuLGah",
    "outputId": "f15f3b4e-647b-4893-de8a-2742a63882c4"
   },
   "outputs": [
    {
     "name": "stdout",
     "output_type": "stream",
     "text": [
      "[[0]\n",
      " [0]\n",
      " [0]\n",
      " [1]]\n"
     ]
    }
   ],
   "source": [
    "Y = np.array([[0], [0], [0], [1]])\n",
    "print(Y)"
   ]
  },
  {
   "cell_type": "code",
   "execution_count": 5,
   "metadata": {
    "colab": {
     "base_uri": "https://localhost:8080/",
     "height": 68
    },
    "colab_type": "code",
    "id": "gLEfr5B6LIfT",
    "outputId": "98368031-edb1-4ca6-8159-ef3f991fe50f"
   },
   "outputs": [
    {
     "name": "stdout",
     "output_type": "stream",
     "text": [
      "[[0.05488135]\n",
      " [0.07151894]\n",
      " [0.06027634]]\n"
     ]
    }
   ],
   "source": [
    "np.random.seed(0)\n",
    "w = 0.1 * np.random.random(size=(3, 1))\n",
    "print(w)"
   ]
  },
  {
   "cell_type": "code",
   "execution_count": 6,
   "metadata": {
    "colab": {},
    "colab_type": "code",
    "id": "IFGKAgAM_4Lv"
   },
   "outputs": [],
   "source": [
    "num_epochs = 10000\n",
    "learning_rate = 0.1"
   ]
  },
  {
   "cell_type": "code",
   "execution_count": 7,
   "metadata": {
    "colab": {},
    "colab_type": "code",
    "id": "bOyWUef4LM0I"
   },
   "outputs": [],
   "source": [
    "for i in range(num_epochs):\n",
    "  Yhat = sigmoid(np.matmul(X, w))\n",
    "  w -= learning_rate * np.matmul(X.T, Yhat - Y)"
   ]
  },
  {
   "cell_type": "code",
   "execution_count": 8,
   "metadata": {
    "colab": {
     "base_uri": "https://localhost:8080/",
     "height": 68
    },
    "colab_type": "code",
    "id": "T1wnuSlpN1HP",
    "outputId": "a2319fd4-4d6a-48c8-a181-767057d6674f"
   },
   "outputs": [
    {
     "name": "stdout",
     "output_type": "stream",
     "text": [
      "[[-15.5074077 ]\n",
      " [ 10.22541225]\n",
      " [ 10.22541225]]\n"
     ]
    }
   ],
   "source": [
    "print(w)"
   ]
  },
  {
   "cell_type": "code",
   "execution_count": 9,
   "metadata": {
    "colab": {
     "base_uri": "https://localhost:8080/",
     "height": 85
    },
    "colab_type": "code",
    "id": "aY949NtlPV4O",
    "outputId": "5dde1fc1-79c8-4de0-aec0-e2404ee9c3a0"
   },
   "outputs": [
    {
     "name": "stdout",
     "output_type": "stream",
     "text": [
      "[[1.84169761e-07]\n",
      " [5.05658027e-03]\n",
      " [5.05658027e-03]\n",
      " [9.92920285e-01]]\n"
     ]
    }
   ],
   "source": [
    "Yhat = sigmoid(np.matmul(X, w))\n",
    "print(Yhat)"
   ]
  },
  {
   "cell_type": "code",
   "execution_count": 10,
   "metadata": {
    "colab": {},
    "colab_type": "code",
    "id": "gJH3asrxPYii"
   },
   "outputs": [],
   "source": [
    "id0 = np.where(Y[:, 0] == 0)\n",
    "id1 = np.where(Y[:, 0] == 1)"
   ]
  },
  {
   "cell_type": "code",
   "execution_count": 11,
   "metadata": {
    "colab": {},
    "colab_type": "code",
    "id": "h77E-k9kPjqK"
   },
   "outputs": [],
   "source": [
    "xx, yy = np.mgrid[-1:2:.01, -1:2:.01]\n",
    "Yhat = sigmoid(w[0] + w[1] * xx + w[2] * yy)"
   ]
  },
  {
   "cell_type": "code",
   "execution_count": 12,
   "metadata": {
    "colab": {
     "base_uri": "https://localhost:8080/",
     "height": 289
    },
    "colab_type": "code",
    "id": "pkOME0amPnNF",
    "outputId": "dcafe3c3-eb9b-427c-ed28-8a7f175da501"
   },
   "outputs": [
    {
     "data": {
      "image/png": "[encoded data removed]",
      "text/plain": [
       "<Figure size 432x288 with 2 Axes>"
      ]
     },
     "metadata": {
      "needs_background": "light"
     },
     "output_type": "display_data"
    }
   ],
   "source": [
    "plt.figure()\n",
    "plt.contourf(xx, yy, Yhat, alpha=0.5)\n",
    "plt.scatter(X[id0, 1], X[id0, 2], color='blue')\n",
    "plt.scatter(X[id1, 1], X[id1, 2], color='red')\n",
    "plt.xlabel('$x_1$', fontsize=16)\n",
    "plt.ylabel('$x_2$', fontsize=16)\n",
    "plt.colorbar()\n",
    "plt.show()"
   ]
  },
  {
   "cell_type": "markdown",
   "metadata": {
    "colab_type": "text",
    "id": "Dbk3-Wt6iEYL"
   },
   "source": [
    "Now let us attempt to learn the XOR function."
   ]
  },
  {
   "cell_type": "code",
   "execution_count": 13,
   "metadata": {
    "colab": {
     "base_uri": "https://localhost:8080/",
     "height": 85
    },
    "colab_type": "code",
    "id": "erAA4KhuPpVr",
    "outputId": "011b253d-2f04-47a5-9645-ebcbf94da5d7"
   },
   "outputs": [
    {
     "name": "stdout",
     "output_type": "stream",
     "text": [
      "[[0]\n",
      " [1]\n",
      " [1]\n",
      " [0]]\n"
     ]
    }
   ],
   "source": [
    "Y = np.array([[0], [1], [1], [0]])\n",
    "print(Y)"
   ]
  },
  {
   "cell_type": "code",
   "execution_count": 14,
   "metadata": {
    "colab": {
     "base_uri": "https://localhost:8080/",
     "height": 68
    },
    "colab_type": "code",
    "id": "LN8cPKjuP1BW",
    "outputId": "656c69ae-4444-4ac4-83fb-7bf1ebc9747c"
   },
   "outputs": [
    {
     "name": "stdout",
     "output_type": "stream",
     "text": [
      "[[0.05488135]\n",
      " [0.07151894]\n",
      " [0.06027634]]\n"
     ]
    }
   ],
   "source": [
    "np.random.seed(0)\n",
    "w = 0.1 * np.random.random(size=(3, 1))\n",
    "print(w)"
   ]
  },
  {
   "cell_type": "code",
   "execution_count": 15,
   "metadata": {
    "colab": {},
    "colab_type": "code",
    "id": "bYV_66S1P6FF"
   },
   "outputs": [],
   "source": [
    "for i in range(num_epochs):\n",
    "  Yhat = sigmoid(np.matmul(X, w))\n",
    "  w -= learning_rate * np.matmul(X.T, Yhat - Y)"
   ]
  },
  {
   "cell_type": "code",
   "execution_count": 16,
   "metadata": {
    "colab": {
     "base_uri": "https://localhost:8080/",
     "height": 68
    },
    "colab_type": "code",
    "id": "hgOz8509P9xo",
    "outputId": "15618126-e23f-4a0e-c493-bcdfe71884e4"
   },
   "outputs": [
    {
     "name": "stdout",
     "output_type": "stream",
     "text": [
      "[[-3.28399605e-16]\n",
      " [ 2.41896455e-16]\n",
      " [ 2.47572488e-16]]\n"
     ]
    }
   ],
   "source": [
    "print(w)"
   ]
  },
  {
   "cell_type": "code",
   "execution_count": 17,
   "metadata": {
    "colab": {
     "base_uri": "https://localhost:8080/",
     "height": 85
    },
    "colab_type": "code",
    "id": "QrBSdgLGQDGV",
    "outputId": "8042cf86-b37e-4f67-8071-1305ca0211fb"
   },
   "outputs": [
    {
     "name": "stdout",
     "output_type": "stream",
     "text": [
      "[[0.5]\n",
      " [0.5]\n",
      " [0.5]\n",
      " [0.5]]\n"
     ]
    }
   ],
   "source": [
    "Yhat = sigmoid(np.matmul(X, w))\n",
    "print(Yhat)"
   ]
  },
  {
   "cell_type": "code",
   "execution_count": 18,
   "metadata": {
    "colab": {},
    "colab_type": "code",
    "id": "fwPHe5NGQFbf"
   },
   "outputs": [],
   "source": [
    "id0 = np.where(Y[:, 0] == 0)\n",
    "id1 = np.where(Y[:, 0] == 1)"
   ]
  },
  {
   "cell_type": "code",
   "execution_count": 19,
   "metadata": {
    "colab": {},
    "colab_type": "code",
    "id": "o3UcGXxxQKKN"
   },
   "outputs": [],
   "source": [
    "xx, yy = np.mgrid[-1:2:.01, -1:2:.01]\n",
    "Yhat = sigmoid(w[0] + w[1] * xx + w[2] * yy)"
   ]
  },
  {
   "cell_type": "code",
   "execution_count": 20,
   "metadata": {
    "colab": {
     "base_uri": "https://localhost:8080/",
     "height": 289
    },
    "colab_type": "code",
    "id": "X5ug51lCQNbr",
    "outputId": "6970b73a-ec22-4084-d7ed-d5d2d97cdb20"
   },
   "outputs": [
    {
     "data": {
      "image/png": "[encoded data removed]",
      "text/plain": [
       "<Figure size 432x288 with 2 Axes>"
      ]
     },
     "metadata": {
      "needs_background": "light"
     },
     "output_type": "display_data"
    }
   ],
   "source": [
    "plt.figure()\n",
    "plt.contourf(xx, yy, Yhat, alpha=0.5)\n",
    "plt.scatter(X[id0, 1], X[id0, 2], color='blue')\n",
    "plt.scatter(X[id1, 1], X[id1, 2], color='red')\n",
    "plt.xlabel('$x_1$', fontsize=16)\n",
    "plt.ylabel('$x_2$', fontsize=16)\n",
    "plt.colorbar()\n",
    "plt.show()"
   ]
  },
  {
   "cell_type": "markdown",
   "metadata": {
    "colab_type": "text",
    "id": "gkueSjDt464o"
   },
   "source": [
    "Logistic regression manages to correctly predict the AND function, but fails on the XOR function, giving all examples an equal probability of 0.5. Similar to the perceptron, it is not able to classify all examples correctly if the training data is not linearly separable."
   ]
  }
 ],
 "metadata": {
  "colab": {
   "authorship_tag": "ABX9TyMFmPaOwcbcpkl87GGdw6e3",
   "include_colab_link": true,
   "name": "logistic.ipynb",
   "provenance": []
  },
  "kernelspec": {
   "display_name": "Python 3",
   "language": "python",
   "name": "python3"
  },
  "language_info": {
   "codemirror_mode": {
    "name": "ipython",
    "version": 3
   },
   "file_extension": ".py",
   "mimetype": "text/x-python",
   "name": "python",
   "nbconvert_exporter": "python",
   "pygments_lexer": "ipython3",
   "version": "3.7.4"
  }
 },
 "nbformat": 4,
 "nbformat_minor": 1
}
