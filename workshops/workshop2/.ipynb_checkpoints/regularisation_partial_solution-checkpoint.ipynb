{
 "cells": [
  {
   "cell_type": "markdown",
   "metadata": {
    "colab_type": "text",
    "id": "view-in-github"
   },
   "source": [
    "<a href=\"https://colab.research.google.com/github/adammoss/MLiS2/blob/master/workshops/workshop2/regularisation_partial_solution.ipynb\" target=\"_parent\"><img src=\"https://colab.research.google.com/assets/colab-badge.svg\" alt=\"Open In Colab\"/></a>"
   ]
  },
  {
   "cell_type": "markdown",
   "metadata": {},
   "source": [
    "# Q1. \n",
    "\n",
    "We have:  \n",
    "$ J(\\mathbf{w}) = (\\mathbf{Xw} - \\mathbf{Y})^T (\\mathbf{Xw} - \\mathbf{Y}) + \\lambda||\\mathbf{w}||_2^2 $\n",
    "\n",
    "To find the optimal weights, we need to solve the normal set of equations i.e.  \n",
    "$ \\bigtriangledown_\\mathbf{w} J(\\mathbf{w}) = 0$\n",
    "\n",
    "or  \n",
    "$\\frac{\\partial}{\\partial \\mathbf{w}} J(\\mathbf{w}) = \\frac{\\partial}{\\partial \\mathbf{w}} \\left{(\\mathbf{Xw} - \\mathbf{Y})^T (\\mathbf{Xw} - \\mathbf{Y}) + \\lambda||\\mathbf{w}||_2^2 = 0 \\right}$\n"
   ]
  },
  {
   "cell_type": "code",
   "execution_count": null,
   "metadata": {},
   "outputs": [],
   "source": []
  },
  {
   "cell_type": "markdown",
   "metadata": {
    "colab_type": "text",
    "id": "f9lgu7n44eFs"
   },
   "source": [
    "**Regularisation**\n",
    "\n",
    "In this example you are given a dataset (MNIST) with a limited number of training examples (only 1000 compared to the usual 60,000). \n",
    "\n",
    "Your goal is to implement regularisation methods to achive the **lowest possible test loss using this dataset**. \n",
    "\n",
    "You should consider methods given in the lectures including:\n",
    "\n",
    "*   Data augmentation\n",
    "*   Early stopping\n",
    "*   L1/L2 penalty norms\n",
    "*   Dropout\n",
    "\n",
    "You are free to change the network architecture and model complexity, but the main purpose of the workshop is to investigate regularisation (next week you will look at CNN architectures in detail). \n",
    "\n",
    "You are also free to change the choice of optimiser, and other hyper-parameters such as the batch size.  \n"
   ]
  },
  {
   "cell_type": "code",
   "execution_count": 0,
   "metadata": {
    "colab": {},
    "colab_type": "code",
    "id": "cNviuTwum6vs"
   },
   "outputs": [],
   "source": [
    "try:\n",
    "  # %tensorflow_version only exists in Colab.\n",
    "  %tensorflow_version 2.x\n",
    "except Exception:\n",
    "  pass"
   ]
  },
  {
   "cell_type": "code",
   "execution_count": 0,
   "metadata": {
    "colab": {},
    "colab_type": "code",
    "id": "ARZRYjHQnE-0"
   },
   "outputs": [],
   "source": [
    "from __future__ import absolute_import, division, print_function, unicode_literals\n",
    "\n",
    "import tensorflow as tf\n",
    "\n",
    "from tensorflow.keras.layers import Dense, Flatten, Conv2D\n",
    "from tensorflow.keras import Model\n",
    "from tensorflow.keras.preprocessing.image import ImageDataGenerator\n",
    "\n",
    "import matplotlib.pyplot as plt\n",
    "\n",
    "import numpy as np"
   ]
  },
  {
   "cell_type": "code",
   "execution_count": 0,
   "metadata": {
    "colab": {},
    "colab_type": "code",
    "id": "7I-MxTxAnH2d"
   },
   "outputs": [],
   "source": [
    "tf.random.set_seed(1)"
   ]
  },
  {
   "cell_type": "code",
   "execution_count": 80,
   "metadata": {
    "colab": {
     "base_uri": "https://localhost:8080/",
     "height": 34
    },
    "colab_type": "code",
    "id": "cxO576eJnMXN",
    "outputId": "eb69b506-508e-4b1c-8ab6-7238df87c2e7"
   },
   "outputs": [
    {
     "name": "stdout",
     "output_type": "stream",
     "text": [
      "2.1.0\n"
     ]
    }
   ],
   "source": [
    "print(tf.__version__)"
   ]
  },
  {
   "cell_type": "markdown",
   "metadata": {
    "colab_type": "text",
    "id": "q4F_HTQpnvSk"
   },
   "source": [
    "First load the MNIST dataset and add a channels dimension (channels last convention)"
   ]
  },
  {
   "cell_type": "code",
   "execution_count": 0,
   "metadata": {
    "colab": {},
    "colab_type": "code",
    "id": "Twdc-t9FnN_9"
   },
   "outputs": [],
   "source": [
    "mnist = tf.keras.datasets.mnist\n",
    "(x_train, y_train), (x_test, y_test) = mnist.load_data()\n",
    "\n",
    "x_train = x_train[..., tf.newaxis].astype(np.float32)\n",
    "x_test = x_test[..., tf.newaxis].astype(np.float32)\n",
    "\n",
    "img_rows = x_train.shape[1]\n",
    "img_cols = x_train.shape[2]"
   ]
  },
  {
   "cell_type": "markdown",
   "metadata": {
    "colab_type": "text",
    "id": "IEsWYkNz5Po7"
   },
   "source": [
    "Let's use a much smaller training dataset of 1000 examples so overfitting is more problematic"
   ]
  },
  {
   "cell_type": "code",
   "execution_count": 82,
   "metadata": {
    "colab": {
     "base_uri": "https://localhost:8080/",
     "height": 51
    },
    "colab_type": "code",
    "id": "Qzt-HoIo4yks",
    "outputId": "8393b2ce-3c2c-402a-b144-0401936de137"
   },
   "outputs": [
    {
     "name": "stdout",
     "output_type": "stream",
     "text": [
      "(1000, 28, 28, 1)\n",
      "(10000, 28, 28, 1)\n"
     ]
    }
   ],
   "source": [
    "n_train = 1000\n",
    "x_train = x_train[0:n_train, :]\n",
    "y_train = y_train[0:n_train]\n",
    "\n",
    "print(x_train.shape)\n",
    "print(x_test.shape)"
   ]
  },
  {
   "cell_type": "code",
   "execution_count": 0,
   "metadata": {
    "colab": {},
    "colab_type": "code",
    "id": "x2JSWYGKjsPh"
   },
   "outputs": [],
   "source": [
    "def plotImages(images_arr):\n",
    "    fig, axes = plt.subplots(1, 5, figsize=(15, 15))\n",
    "    axes = axes.flatten()\n",
    "    for img, ax in zip( images_arr, axes):\n",
    "        ax.imshow(np.squeeze(img))\n",
    "        ax.axis('off')\n",
    "    plt.tight_layout()\n",
    "    plt.show()"
   ]
  },
  {
   "cell_type": "markdown",
   "metadata": {
    "colab_type": "text",
    "id": "oDfQh4AfoBAH"
   },
   "source": [
    "Let's visualise several training examples - to do this we use the keras ImageDataGenerator. We rescale images by 1/255 to normalise them in the range (0, 1)"
   ]
  },
  {
   "cell_type": "code",
   "execution_count": 84,
   "metadata": {
    "colab": {
     "base_uri": "https://localhost:8080/",
     "height": 234
    },
    "colab_type": "code",
    "id": "fuOz9BopjZPq",
    "outputId": "2c6fd799-b1b9-46fb-cd03-811bbd7cc247"
   },
   "outputs": [
    {
     "data": {
      "image/png": "[encoded data removed]",
      "text/plain": [
       "<Figure size 1080x1080 with 5 Axes>"
      ]
     },
     "metadata": {
      "tags": []
     },
     "output_type": "display_data"
    }
   ],
   "source": [
    "image_generator = ImageDataGenerator(rescale=1./255) \n",
    "data_gen = image_generator.flow(x_train, y_train, batch_size=32) \n",
    "sample_images, sample_labels = next(data_gen)\n",
    "plotImages(sample_images[:5])"
   ]
  },
  {
   "cell_type": "markdown",
   "metadata": {
    "colab_type": "text",
    "id": "H8bStvJVoVlj"
   },
   "source": [
    "One regularisation method to deal with over-fitting is data augmentation. The image generator can apply various transformations to data - here we apply a random rotation of upto 20 degrees and visualise the same training example with different augmentations"
   ]
  },
  {
   "cell_type": "code",
   "execution_count": 85,
   "metadata": {
    "colab": {
     "base_uri": "https://localhost:8080/",
     "height": 234
    },
    "colab_type": "code",
    "id": "iz28zlncmIiP",
    "outputId": "69a80c26-c6cb-4049-c356-6ee0384a5bdb"
   },
   "outputs": [
    {
     "data": {
      "image/png": "[encoded data removed]",
      "text/plain": [
       "<Figure size 1080x1080 with 5 Axes>"
      ]
     },
     "metadata": {
      "tags": []
     },
     "output_type": "display_data"
    }
   ],
   "source": [
    "image_generator = ImageDataGenerator(rescale=1./255, \n",
    "                                     rotation_range=20) \n",
    "data_gen = image_generator.flow(x_train, y_train, batch_size=32) \n",
    "augmented_images = [data_gen[0][0][0] for i in range(5)]\n",
    "plotImages(augmented_images)"
   ]
  },
  {
   "cell_type": "markdown",
   "metadata": {
    "colab_type": "text",
    "id": "mIE6-wlA3J4h"
   },
   "source": [
    "Define a basic CNN with 32 convolutional filters using a 3x3 kernel, followed by a dense fully connected layer of 128 units and an output layer of 10 units with softmax activation "
   ]
  },
  {
   "cell_type": "code",
   "execution_count": 0,
   "metadata": {
    "colab": {},
    "colab_type": "code",
    "id": "ZKolHZQUL8-4"
   },
   "outputs": [],
   "source": [
    "class BasicCNN(Model):\n",
    "  def __init__(self):\n",
    "    super(BasicCNN, self).__init__()\n",
    "    self.conv1 = Conv2D(32, 3, activation='relu')\n",
    "    self.flatten = Flatten()\n",
    "    self.d1 = Dense(128, activation='relu')\n",
    "    self.d2 = Dense(10, activation='softmax')\n",
    "\n",
    "  def call(self, x):\n",
    "    x = self.conv1(x)\n",
    "    x = self.flatten(x)\n",
    "    x = self.d1(x)\n",
    "    return self.d2(x)"
   ]
  },
  {
   "cell_type": "markdown",
   "metadata": {
    "colab_type": "text",
    "id": "BuhNDi134B2G"
   },
   "source": [
    "Main training routine - uses the more detailed Gradient Tape API to iterate over the dataset and update the weights"
   ]
  },
  {
   "cell_type": "code",
   "execution_count": 0,
   "metadata": {
    "colab": {},
    "colab_type": "code",
    "id": "MZH8jdqKohiU"
   },
   "outputs": [],
   "source": [
    "def trainer(cls, train_image_generator, test_image_generator, \n",
    "            verbose=False, batch_size=32, max_epochs=5, \n",
    "            early_stopping=False, patience=5):\n",
    "  \n",
    "  model = cls()\n",
    "\n",
    "  train_data_gen = train_image_generator.flow(x_train, y_train, \n",
    "                                              batch_size=batch_size) \n",
    " \n",
    "  test_data_gen = test_image_generator.flow(x_test, y_test, \n",
    "                                              batch_size=batch_size) \n",
    "\n",
    "  loss_object = tf.keras.losses.SparseCategoricalCrossentropy()\n",
    "  optimizer = tf.keras.optimizers.Adam()\n",
    "\n",
    "  train_loss = tf.keras.metrics.Mean(name='train_loss')\n",
    "  train_accuracy = tf.keras.metrics.SparseCategoricalAccuracy(\n",
    "      name='train_accuracy')\n",
    "\n",
    "  test_loss = tf.keras.metrics.Mean(name='test_loss')\n",
    "  test_accuracy = tf.keras.metrics.SparseCategoricalAccuracy(\n",
    "      name='test_accuracy')\n",
    "\n",
    "  @tf.function\n",
    "  def train_step(images, labels):\n",
    "    with tf.GradientTape() as tape:\n",
    "      predictions = model(images, training=True)\n",
    "      loss = loss_object(labels, predictions)\n",
    "    gradients = tape.gradient(loss, model.trainable_variables)\n",
    "    optimizer.apply_gradients(zip(gradients, model.trainable_variables))\n",
    "    train_loss(loss)\n",
    "    train_accuracy(labels, predictions)\n",
    "\n",
    "  @tf.function\n",
    "  def test_step(images, labels):\n",
    "    predictions = model(images, training=False)\n",
    "    t_loss = loss_object(labels, predictions)\n",
    "    test_loss(t_loss)\n",
    "    test_accuracy(labels, predictions)\n",
    "\n",
    "  final_test_loss = np.inf\n",
    "  counter = 0\n",
    "\n",
    "  for epoch in range(max_epochs):\n",
    "    # Reset the metrics at the start of the next epoch\n",
    "    train_loss.reset_states()\n",
    "    train_accuracy.reset_states()\n",
    "    test_loss.reset_states()\n",
    "    test_accuracy.reset_states()\n",
    "\n",
    "    batches = 0\n",
    "    for images, labels in train_data_gen:\n",
    "      train_step(images, labels)\n",
    "      batches += 1\n",
    "      if batches >= len(x_train) / batch_size:\n",
    "        break\n",
    "\n",
    "    batches = 0\n",
    "    for images, labels in test_data_gen:\n",
    "      test_step(images, labels)\n",
    "      batches += 1\n",
    "      if batches >= len(x_test) / batch_size:\n",
    "        break\n",
    "\n",
    "    if verbose:\n",
    "      template = 'Epoch {}, Loss: {}, Accuracy: {}, Test Loss: {}, Test Accuracy: {}'\n",
    "      print(template.format(epoch+1,\n",
    "                            train_loss.result(),\n",
    "                            train_accuracy.result()*100,\n",
    "                            test_loss.result(),\n",
    "                            test_accuracy.result()*100))\n",
    "      \n",
    "    \n",
    "    if early_stopping:\n",
    "      if test_loss.result().numpy() < final_test_loss:\n",
    "        final_test_loss = test_loss.result().numpy() \n",
    "        counter = 0\n",
    "      counter += 1\n",
    "      if counter > patience:\n",
    "        break\n",
    "    else:\n",
    "      final_test_loss = test_loss.result().numpy()\n",
    "    \n",
    "  return final_test_loss"
   ]
  },
  {
   "cell_type": "markdown",
   "metadata": {
    "colab_type": "text",
    "id": "_HIq72IQMQXE"
   },
   "source": [
    "Baseline run with no early stopping and no augmentation"
   ]
  },
  {
   "cell_type": "code",
   "execution_count": 88,
   "metadata": {
    "colab": {
     "base_uri": "https://localhost:8080/",
     "height": 374
    },
    "colab_type": "code",
    "id": "LkemC6SvTLOH",
    "outputId": "e84bbab4-806e-49a2-fbe5-a9bef9ba3ea7"
   },
   "outputs": [
    {
     "name": "stdout",
     "output_type": "stream",
     "text": [
      "Epoch 1, Loss: 1.0200583934783936, Accuracy: 68.80000305175781, Test Loss: 0.6541987657546997, Test Accuracy: 79.15999603271484\n",
      "Epoch 2, Loss: 0.30291905999183655, Accuracy: 91.5, Test Loss: 0.4383596181869507, Test Accuracy: 86.97999572753906\n",
      "Epoch 3, Loss: 0.15614180266857147, Accuracy: 95.30000305175781, Test Loss: 0.379736989736557, Test Accuracy: 88.55000305175781\n",
      "Epoch 4, Loss: 0.09504225105047226, Accuracy: 97.19999694824219, Test Loss: 0.4502171576023102, Test Accuracy: 87.12000274658203\n",
      "Epoch 5, Loss: 0.04762524366378784, Accuracy: 99.29999542236328, Test Loss: 0.3960731327533722, Test Accuracy: 88.7300033569336\n",
      "Epoch 6, Loss: 0.01493939757347107, Accuracy: 100.0, Test Loss: 0.40476301312446594, Test Accuracy: 89.06999969482422\n",
      "Epoch 7, Loss: 0.008234336972236633, Accuracy: 100.0, Test Loss: 0.43571463227272034, Test Accuracy: 88.84000396728516\n",
      "Epoch 8, Loss: 0.00462479330599308, Accuracy: 100.0, Test Loss: 0.41667428612709045, Test Accuracy: 89.45999908447266\n",
      "Epoch 9, Loss: 0.0034457710571587086, Accuracy: 100.0, Test Loss: 0.4351033866405487, Test Accuracy: 89.33000183105469\n",
      "Epoch 10, Loss: 0.0027447498869150877, Accuracy: 100.0, Test Loss: 0.43999528884887695, Test Accuracy: 89.38999938964844\n",
      "Epoch 11, Loss: 0.0022528665140271187, Accuracy: 100.0, Test Loss: 0.44323185086250305, Test Accuracy: 89.52000427246094\n",
      "Epoch 12, Loss: 0.001911725732497871, Accuracy: 100.0, Test Loss: 0.44741952419281006, Test Accuracy: 89.58000183105469\n",
      "Epoch 13, Loss: 0.0015891114016994834, Accuracy: 100.0, Test Loss: 0.45160478353500366, Test Accuracy: 89.56000518798828\n",
      "Epoch 14, Loss: 0.0013472676509991288, Accuracy: 100.0, Test Loss: 0.4601610004901886, Test Accuracy: 89.45999908447266\n",
      "Epoch 15, Loss: 0.001162495231255889, Accuracy: 100.0, Test Loss: 0.4613276422023773, Test Accuracy: 89.59000396728516\n",
      "Epoch 16, Loss: 0.0010446127271279693, Accuracy: 100.0, Test Loss: 0.4653335511684418, Test Accuracy: 89.51000213623047\n",
      "Epoch 17, Loss: 0.0009678736096248031, Accuracy: 100.0, Test Loss: 0.4706176519393921, Test Accuracy: 89.60000610351562\n",
      "Epoch 18, Loss: 0.0008144722087308764, Accuracy: 100.0, Test Loss: 0.47478458285331726, Test Accuracy: 89.6300048828125\n",
      "Epoch 19, Loss: 0.0007500156643800437, Accuracy: 100.0, Test Loss: 0.47701987624168396, Test Accuracy: 89.66000366210938\n",
      "Epoch 20, Loss: 0.0006649834685958922, Accuracy: 100.0, Test Loss: 0.48065853118896484, Test Accuracy: 89.66000366210938\n",
      "Final test loss: 0.48065853\n"
     ]
    }
   ],
   "source": [
    "train_image_generator = ImageDataGenerator(rescale=1./255) \n",
    "test_image_generator = ImageDataGenerator(rescale=1./255)\n",
    "final_test_loss = trainer(BasicCNN, train_image_generator, test_image_generator, \n",
    "                          verbose=True, max_epochs=20)\n",
    "print('Final test loss:', final_test_loss)"
   ]
  },
  {
   "cell_type": "markdown",
   "metadata": {
    "colab_type": "text",
    "id": "_706EwYkOYg4"
   },
   "source": [
    "Run with early stopping and rotation augmentation"
   ]
  },
  {
   "cell_type": "code",
   "execution_count": 91,
   "metadata": {
    "colab": {
     "base_uri": "https://localhost:8080/",
     "height": 306
    },
    "colab_type": "code",
    "id": "OGE77qkZMZlv",
    "outputId": "91e9d223-9a3e-40c4-e8c4-2e159011021e"
   },
   "outputs": [
    {
     "name": "stdout",
     "output_type": "stream",
     "text": [
      "Epoch 1, Loss: 1.0076160430908203, Accuracy: 67.19999694824219, Test Loss: 0.5000699758529663, Test Accuracy: 84.29000091552734\n",
      "Epoch 2, Loss: 0.43125128746032715, Accuracy: 87.0999984741211, Test Loss: 0.35363146662712097, Test Accuracy: 89.06999969482422\n",
      "Epoch 3, Loss: 0.2963999807834625, Accuracy: 89.30000305175781, Test Loss: 0.3345622420310974, Test Accuracy: 89.52999877929688\n",
      "Epoch 4, Loss: 0.2603868544101715, Accuracy: 91.29999542236328, Test Loss: 0.32859501242637634, Test Accuracy: 89.7800064086914\n",
      "Epoch 5, Loss: 0.19860294461250305, Accuracy: 94.4000015258789, Test Loss: 0.2892795205116272, Test Accuracy: 90.94000244140625\n",
      "Epoch 6, Loss: 0.1782345473766327, Accuracy: 94.5, Test Loss: 0.2752619981765747, Test Accuracy: 91.43000030517578\n",
      "Epoch 7, Loss: 0.13437680900096893, Accuracy: 96.4000015258789, Test Loss: 0.2472364455461502, Test Accuracy: 92.29999542236328\n",
      "Epoch 8, Loss: 0.1209961324930191, Accuracy: 97.0, Test Loss: 0.25273147225379944, Test Accuracy: 92.18999481201172\n",
      "Epoch 9, Loss: 0.12447181344032288, Accuracy: 96.5, Test Loss: 0.2622462511062622, Test Accuracy: 91.75\n",
      "Epoch 10, Loss: 0.0576138012111187, Accuracy: 98.4000015258789, Test Loss: 0.26570457220077515, Test Accuracy: 92.06999969482422\n",
      "Epoch 11, Loss: 0.06061906740069389, Accuracy: 98.29999542236328, Test Loss: 0.232929065823555, Test Accuracy: 93.22000122070312\n",
      "Epoch 12, Loss: 0.04623027145862579, Accuracy: 98.79999542236328, Test Loss: 0.2648938000202179, Test Accuracy: 92.54999542236328\n",
      "Epoch 13, Loss: 0.04380113258957863, Accuracy: 98.5999984741211, Test Loss: 0.24884618818759918, Test Accuracy: 92.95999908447266\n",
      "Epoch 14, Loss: 0.029856791719794273, Accuracy: 99.5, Test Loss: 0.2808802127838135, Test Accuracy: 92.06999969482422\n",
      "Epoch 15, Loss: 0.04031997174024582, Accuracy: 98.29999542236328, Test Loss: 0.2535262405872345, Test Accuracy: 92.72999572753906\n",
      "Epoch 16, Loss: 0.03225964307785034, Accuracy: 99.29999542236328, Test Loss: 0.2717909812927246, Test Accuracy: 92.18999481201172\n",
      "Final test loss: 0.23292907\n"
     ]
    }
   ],
   "source": [
    "train_image_generator = ImageDataGenerator(rescale=1./255, rotation_range=20) \n",
    "test_image_generator = ImageDataGenerator(rescale=1./255)\n",
    "final_test_loss = trainer(BasicCNN, train_image_generator, test_image_generator, \n",
    "                          verbose=True, max_epochs=50, early_stopping=True)\n",
    "print('Final test loss:', final_test_loss)"
   ]
  },
  {
   "cell_type": "code",
   "execution_count": 0,
   "metadata": {
    "colab": {},
    "colab_type": "code",
    "id": "JULUcfS9Me_b"
   },
   "outputs": [],
   "source": []
  }
 ],
 "metadata": {
  "colab": {
   "authorship_tag": "ABX9TyMKDGIaTM8dqAGYHnNcxlgd",
   "include_colab_link": true,
   "name": "regularisation.ipynb",
   "provenance": []
  },
  "kernelspec": {
   "display_name": "Python 3 (ipykernel)",
   "language": "python",
   "name": "python3"
  },
  "language_info": {
   "codemirror_mode": {
    "name": "ipython",
    "version": 3
   },
   "file_extension": ".py",
   "mimetype": "text/x-python",
   "name": "python",
   "nbconvert_exporter": "python",
   "pygments_lexer": "ipython3",
   "version": "3.7.9"
  }
 },
 "nbformat": 4,
 "nbformat_minor": 1
}
